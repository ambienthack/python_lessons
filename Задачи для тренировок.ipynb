{
 "cells": [
  {
   "cell_type": "markdown",
   "metadata": {},
   "source": [
    "## Задачи для самостоятельных тренировок по курсу Мастерской «Важных историй» — «Пограммирование на языке Python для журналистов».\n",
    "\n",
    "#### Основано на задачах из курса Ильи Щурова. Cсылка на курс: https://clck.ru/S8TAk\n",
    "\n",
    "#### Смотреть уроки Мастерской здесь: https://clck.ru/S8Wwe\n"
   ]
  },
  {
   "cell_type": "markdown",
   "metadata": {},
   "source": [
    "### Для выполнения заданий:\n",
    "\n",
    "1) Скачайте эту тетрадку на свой компьютер: для этого нажмите raw → «сохранить как» → формат файла вместо txt напишите ipynb. \n",
    "\n",
    "2) После открытия Jupyter загрузите скаченную тетрадку через Upload (в правом верхнем углу).\n",
    "\n",
    "3) Найдите ее в списке тетрадок на той же странице и откройте. \n",
    "\n",
    "4) Активируйте тесты: это первая ячейка с кодом. Тогда ваши ответы на задания будут проверяться на ошибки. \n",
    "\n",
    "5) Вставляйте решение каждой задачи в ячейку для кода строго там, где написан комментарий # YOUR CODE HERE. Отступ вашего кода должен составлять 4 пробела (кнопка tab). Ничего не меняйте вокруг!\n",
    "\n",
    "6) Запустите ячейку после того, как вставили код с решением. Введите входные данные, если это нужно. Проверьте визуально правильность вывода. \n",
    "\n",
    "7) Запустите следующую ячейку, которая начинается с test_data (в ней содержится тест). Если запуск ячейки с тестом не приводит к появлению ошибки (assertion), значит, всё в порядке, задача решена. Если приводит к появлению ошибки, значит, тест не пройден и нужно искать ошибку.\n",
    "\n",
    "*Внимание!*\n",
    "\n",
    "Если в какой-то момент забыть ввести входные данные и перейти на следующую ячейку, есть риск, что Notebook перестанет откликаться. В этом случае надо перезапустить ядро: Kernel → Restart. При этом потеряются все значения переменных, но сам код останется.\n",
    "\n",
    "В задачах вам потребуется написать код, запрашивающий данные с клавиатуры с помощью функции input(). Обратите внимание: input() всегда возвращает строку, чтобы преобразовать результат к другому типу, нужно использовать соответствующие функции\n",
    "\n",
    "### Удачи!"
   ]
  },
  {
   "cell_type": "code",
   "execution_count": 8,
   "metadata": {
    "collapsed": true
   },
   "outputs": [],
   "source": [
    "# Фабрика тестов для проверки программ, принимающих данные через input()\n",
    "\n",
    "from collections import deque\n",
    "\n",
    "class Tester(object):\n",
    "    def __init__(self, inp):\n",
    "        self.outputs = []\n",
    "        self.inputs = deque(inp)\n",
    "    def print(self, *args, sep = \" \", end = \"\\n\"):\n",
    "        self.outputs.append(sep.join(map(str,args)) + end)\n",
    "    def input(self, *args):\n",
    "        assert self.inputs, \"Вы пытаетесь считать больше элементов, чем предусмотрено условием\"\n",
    "        return self.inputs.popleft()\n",
    "    def __enter__(self):\n",
    "        global print\n",
    "        global input\n",
    "        print = self.print\n",
    "        input = self.input\n",
    "        return self.outputs\n",
    "    def __exit__(self, *args):\n",
    "        global print\n",
    "        global input\n",
    "        del print\n",
    "        del input"
   ]
  },
  {
   "cell_type": "markdown",
   "metadata": {},
   "source": [
    "### Для решения задач вам пригодятся знания из первых четырех уроков Мастерской и, возможно, умение гуглить (оно будет пригождаться в принципе всегда)  \n",
    "\n",
    "*Внимание: фукнция input() объясняется в начале 3 урока*"
   ]
  },
  {
   "cell_type": "markdown",
   "metadata": {},
   "source": [
    "### Задача 1\n",
    "\n",
    "Напишите программу, которая последовательно запрашивает три целых числа с помощью input() (после ввода каждого числа пользователь нажимает «Enter» — иными словами, каждое число вводится на отдельной строке) и выводит их сумму.\n",
    "\n",
    "**Пример**\n",
    "\n",
    "*Входные данные*\n",
    "\n",
    "1\n",
    "2\n",
    "3\n",
    "\n",
    "*Выходные данные*\n",
    "\n",
    "6\n",
    "\n",
    "*Подсказка.* Вам придётся вызвать input() три раза."
   ]
  },
  {
   "cell_type": "code",
   "execution_count": null,
   "metadata": {
    "collapsed": true
   },
   "outputs": [],
   "source": [
    "def sum3():\n",
    "    # YOUR CODE HERE\n",
    "    \n",
    "sum3()"
   ]
  },
  {
   "cell_type": "code",
   "execution_count": null,
   "metadata": {
    "collapsed": true
   },
   "outputs": [],
   "source": [
    "test_data = [\n",
    "    (\"0 0 0\", 0),\n",
    "    (\"1 2 10\", 13),\n",
    "    (\"-1 -5 100\", 100-6),\n",
    "    (\"0 20 300\", 320),\n",
    "    (\"-5 180 -17\", 158)\n",
    "]\n",
    "\n",
    "for inp, out in test_data:\n",
    "    with Tester(inp.split()) as t:\n",
    "        sum3()\n",
    "        assert len(t) == 1, \"Вам нужно вывести ровно одну строку с ответом\"\n",
    "        assert t[0].strip() == str(out), \"Неверный ответ, были введены числа \" + inp\n",
    "print(\"Это было просто, да? Дальше будет интереснее!\")"
   ]
  },
  {
   "cell_type": "markdown",
   "metadata": {},
   "source": [
    "### Задача 2\n",
    "Напишите программу, которая запрашивает имя пользователя, а затем приветствует его.\n",
    "\n",
    "**Входные данные**\n",
    "\n",
    "Пользователь вводит одно слово — имя.\n",
    "\n",
    "**Выходные данные**\n",
    "\n",
    "Программа должна выводить одну строчку:\n",
    "\n",
    "    Hello, имя!\n",
    "\n",
    "где имя — введенное пользователем имя. Обратите внимание на пробел после запятой. Других пробелов быть не должно!\n",
    "\n",
    "**Примеры**\n",
    "\n",
    "_Входные данные_\n",
    "\n",
    "    Harry\n",
    "\n",
    "_Выходные данные_\n",
    "\n",
    "    Hello, Harry!\n",
    "\n",
    "_Входные данные_\n",
    "\n",
    "    Hermiona\n",
    "\n",
    "_Выходные данные_\n",
    "\n",
    "    Hello, Hermiona!\n",
    "\n",
    "_Подсказка._ Чтобы напечатать значение нескольких переменных, можно либо передать их через запятую функции `print()` (например, `print(a, b)`), либо преобразовать в строки и сложить с помощью оператора `+`. Избавиться от лишних пробелов в первом случае поможет параметр `sep` — посмотрите, например, что будет, если набрать `print(\"one\", \"two\", sep=\"---\")`."
   ]
  },
  {
   "cell_type": "code",
   "execution_count": null,
   "metadata": {
    "collapsed": true
   },
   "outputs": [],
   "source": [
    "def hello_Harry():\n",
    "    # YOUR CODE HERE\n",
    "\n",
    "hello_Harry()"
   ]
  },
  {
   "cell_type": "code",
   "execution_count": null,
   "metadata": {
    "collapsed": true
   },
   "outputs": [],
   "source": [
    "test_data = [\n",
    "    (\"Harry\", \"Hello, Harry!\"),\n",
    "    (\"Hermiona\", \"Hello, Hermiona!\"),\n",
    "    (\"Mr. Potter\", \"Hello, Mr. Potter!\"),\n",
    "    (\"Lord Voldemort\", \"Hello, Lord Voldemort!\")\n",
    "]\n",
    "\n",
    "for inp, out in test_data:\n",
    "    with Tester([inp]) as t:\n",
    "        hello_Harry()\n",
    "        assert len(t) == 1, \"Вам нужно вывести ровно одну строку с ответом\"\n",
    "        assert t[0] == out+\"\\n\", \"Неверный ответ, была введена строка \" + inp\n",
    "print(\"Молодцом, давай следующую!\")"
   ]
  },
  {
   "cell_type": "markdown",
   "metadata": {},
   "source": [
    "### Задача 3\n",
    "Напишите программу, которая считывает длины двух катетов в прямоугольном треугольнике и выводит его гипотенузу. Входные числа могут быть целыми или с плавающей точкой. После ввода каждого числа пользователь нажимает «Enter»."
   ]
  },
  {
   "cell_type": "code",
   "execution_count": null,
   "metadata": {
    "collapsed": true
   },
   "outputs": [],
   "source": [
    "def triangle():\n",
    "    # YOUR CODE HERE\n",
    "    \n",
    "triangle()"
   ]
  },
  {
   "cell_type": "code",
   "execution_count": null,
   "metadata": {
    "collapsed": true
   },
   "outputs": [],
   "source": [
    "test_data = [\n",
    "    (\"3 4\", 5.),\n",
    "    (\"5 12\", 13.),\n",
    "    (\"65 72\", 97.),\n",
    "    (\"0.3 0.4\", 0.5),\n",
    "    (\"0.05 0.12\", 0.13),\n",
    "    (\"12.54 9.153\", 15.525108985124708)\n",
    "]\n",
    "\n",
    "for inp, out in test_data:\n",
    "    with Tester(inp.split()) as t:\n",
    "        triangle()\n",
    "        assert len(t) == 1, \"Вам нужно вывести ровно одну строку с ответом\"\n",
    "        assert abs(float(t[0]) - out) < 1E-6,\"Неверный ответ, были введены числа \" + inp\n",
    "print(\"Красава!\")"
   ]
  },
  {
   "cell_type": "markdown",
   "metadata": {},
   "source": [
    "### Задача 4\n",
    "Напишите программу, которая считывает целое число и выводит текст, аналогичный приведенному в примере (пробелы важны!).\n",
    "\n",
    "**Пример**\n",
    "\n",
    "_Входные данные_\n",
    "\n",
    "    179\n",
    "\n",
    "_Выходные данные_\n",
    "\n",
    "    The next number for the number 179 is 180.\n",
    "    The previous number for the number 179 is 178.\n",
    "\n",
    "_Подсказка._ См. подсказку к задаче 2."
   ]
  },
  {
   "cell_type": "code",
   "execution_count": null,
   "metadata": {
    "collapsed": true
   },
   "outputs": [],
   "source": [
    "def prevnext():\n",
    "    # YOUR CODE HERE\n",
    "    \n",
    "prevnext()"
   ]
  },
  {
   "cell_type": "code",
   "execution_count": null,
   "metadata": {
    "collapsed": true
   },
   "outputs": [],
   "source": [
    "test_data = [\n",
    "    (\"1534\", [\"The next number for the number 1534 is 1535.\\n\",\n",
    "              \"The previous number for the number 1534 is 1533.\\n\"]),\n",
    "    (\"0\", [\"The next number for the number 0 is 1.\\n\",\n",
    "           \"The previous number for the number 0 is -1.\\n\"]),\n",
    "    (\"2718281828904590\", [\n",
    "            \"The next number for the number 2718281828904590 is 2718281828904591.\\n\",\n",
    "            \"The previous number for the number 2718281828904590 is 2718281828904589.\\n\"])\n",
    "]\n",
    "\n",
    "for inp, out in test_data:\n",
    "    with Tester([inp]) as t:\n",
    "        prevnext()\n",
    "        assert len(t) == 2, \"Вам нужно вывести ровно две строку с ответом\"\n",
    "        assert t == out,\"Неверный ответ, было введено число \" + inp\n",
    "print(\"Круто, почти половина пути пройдена!\")"
   ]
  },
  {
   "cell_type": "markdown",
   "metadata": {},
   "source": [
    "### Задача 5 \n",
    "\n",
    "Дано целое число $n$. Выведите следующее за ним четное число. При решении этой задачи нельзя использовать условный оператор `if` и циклы.\n",
    "\n",
    "**Примеры**\n",
    "\n",
    "_Входные данные_\n",
    "\n",
    "    7\n",
    "\n",
    "_Выходные данные_\n",
    "\n",
    "    8\n",
    "\n",
    "_Входные данные_\n",
    "\n",
    "    8\n",
    "\n",
    "_Выходные данные_\n",
    "\n",
    "    10"
   ]
  },
  {
   "cell_type": "code",
   "execution_count": null,
   "metadata": {
    "collapsed": true
   },
   "outputs": [],
   "source": [
    "def next_even():\n",
    "    # YOUR CODE HERE\n",
    "    \n",
    "next_even()"
   ]
  },
  {
   "cell_type": "code",
   "execution_count": null,
   "metadata": {
    "collapsed": true
   },
   "outputs": [],
   "source": [
    "test_data = [\n",
    "    (1, 2),\n",
    "    (2, 4),\n",
    "    (100, 102),\n",
    "    (0, 2),\n",
    "    (11, 12),\n",
    "    (594843, 594844),\n",
    "    (-1, 0),\n",
    "    (-100, -98)\n",
    "]\n",
    "\n",
    "for inp, out in test_data:\n",
    "    with Tester([str(inp)]) as t:\n",
    "        next_even()\n",
    "        assert len(t) == 1, \"Вам нужно вывести ровно одну строку с ответом\"\n",
    "        assert t[0].strip() == str(out),\"Неверный ответ, было введено число \" + str(inp)\n",
    "print(\"Поздравляем с экватором!\")"
   ]
  },
  {
   "cell_type": "markdown",
   "metadata": {},
   "source": [
    "### Задача 6 \n",
    "Электронные часы показывают время в формате h:mm:ss, то есть сначала записывается количество часов (в 24-часовом формате), потом обязательно двузначное количество минут, затем обязательно двузначное количество секунд. Количество минут и секунд при необходимости дополняются до двузначного числа нулями.\n",
    "\n",
    "С начала суток прошло n секунд. Выведите, что покажут часы.\n",
    "\n",
    "Запрещается пользоваться условным оператором, циклами и любыми библиотеками.\n",
    "\n",
    "**Входные данные**\n",
    "\n",
    "Вводится целое число $n$.\n",
    "\n",
    "**Выходные данные**\n",
    "\n",
    "Выведите ответ на задачу, соблюдая требуемый формат.\n",
    "\n",
    "**Примеры**\n",
    "\n",
    "_Входные данные_\n",
    "\n",
    "    3602\n",
    "\n",
    "_Выходные данные_\n",
    "\n",
    "    1:00:02\n",
    "\n",
    "_Входные данные_\n",
    "\n",
    "    129700\n",
    "\n",
    "_Выходные данные_\n",
    "\n",
    "    12:01:40\n",
    "    "
   ]
  },
  {
   "cell_type": "code",
   "execution_count": null,
   "metadata": {
    "collapsed": true
   },
   "outputs": [],
   "source": [
    "def clock():\n",
    "    # YOUR CODE HERE\n",
    "    \n",
    "clock()"
   ]
  },
  {
   "cell_type": "code",
   "execution_count": null,
   "metadata": {
    "collapsed": true
   },
   "outputs": [],
   "source": [
    "test_data = [\n",
    "    (3602, \"1:00:02\"),\n",
    "    (129700, \"12:01:40\"),\n",
    "    (12739182731927, \"13:58:47\"),\n",
    "    (0, \"0:00:00\"),\n",
    "    (1, \"0:00:01\"),\n",
    "    (60, \"0:01:00\"),\n",
    "    (3600, \"1:00:00\"),\n",
    "    (3599, \"0:59:59\"),\n",
    "    (43200, \"12:00:00\"),\n",
    "    (86400, \"0:00:00\")\n",
    "]\n",
    "\n",
    "for inp, out in test_data:\n",
    "    with Tester([str(inp)]) as t:\n",
    "        clock()\n",
    "        assert len(t) == 1, \"Вам нужно вывести ровно одну строку с ответом\"\n",
    "        assert t[0] == out+\"\\n\", \"Неверный ответ, было введено число \" + str(inp)\n",
    "print(\"Отлично, осталось всего ничего!\")"
   ]
  },
  {
   "cell_type": "markdown",
   "metadata": {},
   "source": [
    "### Задача 7 \n",
    "\n",
    "Напишите программу, которая считывает два целых числа $a$ и $b$ и выводит наибольшее значение из них. Числа — целые от 1 до 1000.\n",
    "\n",
    "При решении задачи можно пользоваться только целочисленными арифметическими операциями `+, -, *, //, %, =`. \n",
    "\n",
    "Нельзя пользоваться нелинейными конструкциями: ветвлениями, циклами, функциями вычисления модуля, извлечения квадратного корня, возведения в нецелую степень.\n",
    "\n",
    "Использование функции `max` запрещено! И `min` тоже. \n",
    "\n",
    "И вообще всё запрещено, кроме того, что разрешено."
   ]
  },
  {
   "cell_type": "code",
   "execution_count": null,
   "metadata": {
    "collapsed": true
   },
   "outputs": [],
   "source": [
    "def int_max():\n",
    "    # YOUR CODE HERE\n",
    "    \n",
    "int_max()"
   ]
  },
  {
   "cell_type": "code",
   "execution_count": null,
   "metadata": {
    "collapsed": true
   },
   "outputs": [],
   "source": [
    "for a in list(range(1, 100)) + [154, 982, 324]:\n",
    "    for b in list(range(1, 100)) + [991, 124, 183]:\n",
    "        with Tester([str(a), str(b)]) as t:\n",
    "            int_max()\n",
    "            assert len(t) == 1, \"Вам нужно вывести ровно одну строку с ответом\"\n",
    "            assert int(t[0]) == max(a, b), \"Ошибка при входных данных \" + str(a) + \", \" + str(b)\n",
    "print(\"Ура, всё верно!\")"
   ]
  },
  {
   "cell_type": "markdown",
   "metadata": {},
   "source": [
    "### Задача 8 \n",
    "Даны два целых числа A и B (при этом A≤B). Каждое число вводится с клавитуры, после ввода пользователь нажимает «Enter». Выведите все целые числа от A до B включительно в столбик.\n",
    "\n",
    "**Пример**\n",
    "\n",
    "*Входные данные*\n",
    "\n",
    "    3\n",
    "    6\n",
    "\n",
    "*Выходные данные*\n",
    "\n",
    "    3\n",
    "    4\n",
    "    5\n",
    "    6"
   ]
  },
  {
   "cell_type": "code",
   "execution_count": null,
   "metadata": {
    "collapsed": true
   },
   "outputs": [],
   "source": [
    "def my_range():\n",
    "    # YOUR CODE HERE\n",
    "    \n",
    "my_range()"
   ]
  },
  {
   "cell_type": "code",
   "execution_count": null,
   "metadata": {
    "collapsed": true
   },
   "outputs": [],
   "source": [
    "test_data = [\n",
    "    [\"2 4\", \"2 3 4\"],\n",
    "    [\"1 10\", \"1 2 3 4 5 6 7 8 9 10\"],\n",
    "    [\"0 0\", \"0\"],\n",
    "    [\"-5 0\", \"-5 -4 -3 -2 -1 0\"],\n",
    "    [\"1 1\", \"1\"],\n",
    "    [\"0 100\", '0 1 2 3 4 5 6 7 8 9 10 11 12 13 14 15 16 17 18 19 20 21 22 23 24 25 26 27 28 29 30 31 32 33 34 35 36 37 38 39 40 41 42 43 44 45 46 47 48 49 50 51 52 53 54 55 56 57 58 59 60 61 62 63 64 65 66 67 68 69 70 71 72 73 74 75 76 77 78 79 80 81 82 83 84 85 86 87 88 89 90 91 92 93 94 95 96 97 98 99 100']\n",
    "]\n",
    "\n",
    "for inp, out in test_data:\n",
    "    with Tester(inp.split()) as t:\n",
    "        my_range()\n",
    "        assert len(t) == len(out.split()), 'Вы вывели неверное количество чисел для входных данных ' + inp\n",
    "        for o, e in zip(t, out.split()):\n",
    "            assert int(o) == int(e), \"Неверный ответ для входных данных \" + inp\n",
    "            \n",
    "print(\"Ты — космос!\")"
   ]
  },
  {
   "cell_type": "markdown",
   "metadata": {},
   "source": [
    "### Задача 9\n",
    "Напишите программу, которая запрашивает с клавиатуры целое число, после чего выводит одну из двух возможных строк: `even` если число чётное и `odd` если нечётное. \n",
    "\n",
    "*Подсказка:* Чтобы понять, является ли число чётным, нужно вычислить остаток от деления его на 2, это можно сделать с помощью арифметической операции `%`.\n",
    "\n",
    "**Пример.**\n",
    "\n",
    "*Входные данные*\n",
    "\n",
    "    5\n",
    "    \n",
    "*Выходные данные*\n",
    "\n",
    "    odd"
   ]
  },
  {
   "cell_type": "code",
   "execution_count": null,
   "metadata": {
    "collapsed": true
   },
   "outputs": [],
   "source": [
    "def even_or_odd():\n",
    "    # YOUR CODE HERE\n",
    "    \n",
    "even_or_odd()"
   ]
  },
  {
   "cell_type": "code",
   "execution_count": null,
   "metadata": {
    "collapsed": true
   },
   "outputs": [],
   "source": [
    "test_data = [\n",
    "    (5, 'odd'),\n",
    "    (100, 'even'),\n",
    "    (0, 'even'),\n",
    "    (-3, 'odd'),\n",
    "    (100500, 'even'),\n",
    "    (100501, 'odd'),\n",
    "    (1, 'odd')\n",
    "]\n",
    "\n",
    "for inp, out in test_data:\n",
    "    with Tester([str(inp)]) as t:\n",
    "        even_or_odd()\n",
    "        assert len(t) == 1, \"Вам нужно вывести ровно одну строку с ответом\"\n",
    "        assert t[0].strip() == str(out), \"Неверный ответ, были введены числа \" + str(inp)\n",
    "print(\"Верно! Еще чуть-чуть!\")"
   ]
  },
  {
   "cell_type": "markdown",
   "metadata": {},
   "source": [
    "### Задача 10\n",
    "Напишите программу, которая запрашивает с клавиатуры целое число, после чего выводит одну из трёх возможных строк: `positive` если число положительное, `negative` если отрицательное и `zero` если введен ноль. \n",
    "\n",
    "\n",
    "**Пример.**\n",
    "\n",
    "*Входные данные*\n",
    "\n",
    "    5\n",
    "    \n",
    "*Выходные данные*\n",
    "\n",
    "    positive"
   ]
  },
  {
   "cell_type": "code",
   "execution_count": null,
   "metadata": {
    "collapsed": true
   },
   "outputs": [],
   "source": [
    "def positive_or_negative():\n",
    "    # YOUR CODE HERE\n",
    "    \n",
    "positive_or_negative()"
   ]
  },
  {
   "cell_type": "code",
   "execution_count": null,
   "metadata": {
    "collapsed": true
   },
   "outputs": [],
   "source": [
    "test_data = [\n",
    "    (5, 'positive'),\n",
    "    (100, 'positive'),\n",
    "    (0, 'zero'),\n",
    "    (-3, 'negative'),\n",
    "    (100500, 'positive'),\n",
    "    (100501, 'positive'),\n",
    "    (1, 'positive')\n",
    "]\n",
    "\n",
    "for inp, out in test_data:\n",
    "    with Tester([str(inp)]) as t:\n",
    "        positive_or_negative()\n",
    "        assert len(t) == 1, \"Вам нужно вывести ровно одну строку с ответом\"\n",
    "        assert t[0].strip() == str(out), \"Неверный ответ, были введены числа \" + str(inp)\n",
    "print(\"Мы тобой гордимся! Не бросай уроки!\")"
   ]
  }
 ],
 "metadata": {
  "kernelspec": {
   "display_name": "Python [Root]",
   "language": "python",
   "name": "Python [Root]"
  },
  "language_info": {
   "codemirror_mode": {
    "name": "ipython",
    "version": 3
   },
   "file_extension": ".py",
   "mimetype": "text/x-python",
   "name": "python",
   "nbconvert_exporter": "python",
   "pygments_lexer": "ipython3",
   "version": "3.5.2"
  }
 },
 "nbformat": 4,
 "nbformat_minor": 0
}
